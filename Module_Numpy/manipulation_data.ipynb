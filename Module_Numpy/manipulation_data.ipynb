{
 "cells": [
  {
   "cell_type": "markdown",
   "id": "cbf63d3c",
   "metadata": {},
   "source": [
    "### 🧠 Cours complet sur NumPy – De Débutant à Avancé\n",
    "\n",
    "#### Introduction à NumPy\n",
    "- Qu'est-ce que NumPy ?\n",
    "- Installation et configuration\n",
    "- Premier pas avec les tableaux NumPy\n",
    "\n",
    "#### Manipulation des Tableaux\n",
    "- Création de tableaux\n",
    "- Indexation et slicing\n",
    "- Opérations de base sur les tableaux\n",
    "\n",
    "#### Fonctions Mathématiques\n",
    "- Fonctions universelles (ufunc)\n",
    "- Statistiques descriptives\n",
    "- Opérations sur les axes\n",
    "\n",
    "#### Manipulation Avancée\n",
    "- Reshaping et flattening\n",
    "- Concatenation et splitting\n",
    "- Masques et filtrage\n",
    "\n",
    "#### Intégration avec d'autres Bibliothèques\n",
    "- Utilisation de NumPy avec Pandas\n",
    "- Visualisation avec Matplotlib\n",
    "- Interopérabilité avec TensorFlow\n",
    "\n",
    "#### Projets Pratiques\n",
    "- Analyse de données avec NumPy\n",
    "- Projets de machine learning\n",
    "- Études de cas réels\n",
    "#### Ressources Supplémentaires\n",
    "- Documentation officielle\n",
    "- Tutoriels en ligne"
   ]
  },
  {
   "cell_type": "markdown",
   "id": "f472c0f0",
   "metadata": {},
   "source": [
    "### Objectifs du Cours🎯 Objectif du cours\n",
    "\n",
    "   À la fin de ce module, l’apprenant sera capable de :\n",
    "\n",
    "##### 1-    Comprendre le rôle et la structure des tableaux NumPy (ndarray).\n",
    "\n",
    "##### 2-    Effectuer des opérations mathématiques et logiques sur des données numériques.\n",
    "\n",
    "##### 3-    Manipuler, transformer et agréger efficacement des grandes quantités de données.\n",
    "\n",
    "##### 4-    Appliquer NumPy dans des projets de Data Science ou de Machine Learning."
   ]
  },
  {
   "cell_type": "markdown",
   "id": "77298663",
   "metadata": {},
   "source": [
    "##### 1. Introduction à NumPy\n",
    "\n",
    "### Qu'est-ce que NumPy ?\n",
    "NumPy (Numerical Python) est une bibliothèque open-source pour le langage de programmation Python,\n",
    "spécialisée dans le calcul scientifique et le traitement de données numériques. Elle fournit un\n",
    "objet de tableau multidimensionnel performant appelé ndarray, ainsi que des fonctions pour effectuer\n",
    "des opérations mathématiques, logiques, de manipulation de tableaux et bien plus encore.\n",
    "\n",
    "### Installation et configuration\n",
    "Pour installer NumPy, vous pouvez utiliser pip, le gestionnaire de paquets Python. Ouvrez votre terminal\n",
    "et exécutez la commande suivante :\n",
    "```bash\n",
    "pip install numpy\n",
    "```\n",
    "Une fois installé, vous pouvez importer NumPy dans votre script Python en utilisant :\n",
    "```python\n",
    "import numpy as np\n",
    "```"
   ]
  },
  {
   "cell_type": "markdown",
   "id": "12af2280",
   "metadata": {},
   "source": [
    "### 🧩 2. Les bases du tableau NumPy (ndarray)\n",
    "\n",
    "Le tableau NumPy, ou ndarray (n-dimensional array), est la structure de données principale de NumPy. Il est conçu pour stocker des données numériques de manière efficace et permet des opérations rapides sur ces données."
   ]
  },
  {
   "cell_type": "markdown",
   "id": "5955b676",
   "metadata": {},
   "source": [
    "##### Création de tableaux\n",
    "Vous pouvez créer des tableaux NumPy à partir de listes Python ou en utilisant des fonctions spécifiques de NumPy"
   ]
  },
  {
   "cell_type": "code",
   "execution_count": null,
   "id": "b48c32aa",
   "metadata": {},
   "outputs": [],
   "source": [
    "import numpy as np\n",
    "import os, sys, pandas as pd"
   ]
  },
  {
   "cell_type": "code",
   "execution_count": null,
   "id": "9f4864c1",
   "metadata": {},
   "outputs": [],
   "source": [
    "# À partir d'une liste Python\n",
    "a = np.array([1, 2, 3])\n",
    "b = np.array([[1, 2, 3], [4, 5, 6]])\n",
    "\n",
    "print(a)  # [1 2 3]\n",
    "print(b)\n"
   ]
  },
  {
   "cell_type": "markdown",
   "id": "962e8a27",
   "metadata": {},
   "source": [
    "###### Type de données "
   ]
  },
  {
   "cell_type": "code",
   "execution_count": null,
   "id": "2687dcaa",
   "metadata": {},
   "outputs": [],
   "source": [
    "print(a.dtype)   # int64\n",
    "print(b.ndim)    # nombre de dimensions\n",
    "print(b.shape)   # (2, 3)\n",
    "print(b.size)    # nombre total d’éléments\n"
   ]
  },
  {
   "cell_type": "markdown",
   "id": "3f7ddb80",
   "metadata": {},
   "source": [
    "##### Fonctions de création rapides"
   ]
  },
  {
   "cell_type": "code",
   "execution_count": null,
   "id": "c0a87e62",
   "metadata": {},
   "outputs": [],
   "source": [
    "np.zeros((2,3))          # tableau de zéros\n",
    "np.ones((3,2))           # tableau de uns\n",
    "np.arange(0,10,2)        # [0, 2, 4, 6, 8]\n",
    "np.linspace(0,1,5)       # [0. 0.25 0.5 0.75 1.]\n",
    "np.eye(3)                # matrice identité 3x3\n"
   ]
  },
  {
   "cell_type": "markdown",
   "id": "b9e9c109",
   "metadata": {},
   "source": [
    "##### Indexation et slicing"
   ]
  },
  {
   "cell_type": "code",
   "execution_count": null,
   "id": "492a2907",
   "metadata": {},
   "outputs": [],
   "source": [
    "# indexatin simples\n",
    "arr = np.array([10, 20, 30, 40, 50])\n",
    "print(arr[0])    # 10\n",
    "print(arr[-1])   # 50"
   ]
  },
  {
   "cell_type": "markdown",
   "id": "56b1b2d3",
   "metadata": {},
   "source": [
    "##### Slicing"
   ]
  },
  {
   "cell_type": "code",
   "execution_count": null,
   "id": "a04dcdf3",
   "metadata": {},
   "outputs": [],
   "source": [
    "print(arr[1:4])   # [20 30 40]\n",
    "print(arr[:3])    # [10 20 30]\n",
    "print(arr[::-1])  # [50 40 30 20 10]\n",
    "# Slicing\n",
    "arr = np.array([[10, 20, 30], [40, 50, 60], [70, 80, 90]])\n",
    "print(arr[0, 1])    # 20\n",
    "print(arr[1:, :2])  # [[40 50]\n",
    "                    #  [70 80]]"
   ]
  },
  {
   "cell_type": "markdown",
   "id": "f037cbcf",
   "metadata": {},
   "source": [
    "##### Operations arithmétiques\n",
    "Vous pouvez effectuer des opérations arithmétiques élémentaires sur les tableaux NumPy de manière élémentaire."
   ]
  },
  {
   "cell_type": "code",
   "execution_count": null,
   "id": "6b31c365",
   "metadata": {},
   "outputs": [],
   "source": [
    "x = np.array([1, 2, 3])\n",
    "y = np.array([4, 5, 6])\n",
    "\n",
    "print(x + y)   # [5 7 9]\n",
    "print(x * y)   # [4 10 18]\n",
    "print(x ** 2)  # [1 4 9]\n",
    "print(np.sqrt(x))  \n",
    "print(np.sin(x))\n",
    "print(np.log(x))\n",
    "print(np.exp(x))\n"
   ]
  },
  {
   "cell_type": "markdown",
   "id": "1a961bbb",
   "metadata": {},
   "source": [
    "#### Filtres logiques et booléennes"
   ]
  },
  {
   "cell_type": "code",
   "execution_count": null,
   "id": "1f499cf8",
   "metadata": {},
   "outputs": [],
   "source": [
    "## Filtres logiques\n",
    "data = np.array([5, 10, 15, 20, 25])\n",
    "mask = data > 10\n",
    "print(mask)          # [False False  True  True  True]\n",
    "print(data[mask])    # [15 20 25]"
   ]
  },
  {
   "cell_type": "code",
   "execution_count": null,
   "id": "75428603",
   "metadata": {},
   "outputs": [],
   "source": [
    "### Comparaison de tableaux\n",
    "a = np.array([1,2,3])\n",
    "b = np.array([1,2,4])\n",
    "print(a == b)  # [ True  True False]"
   ]
  },
  {
   "cell_type": "markdown",
   "id": "4e439cdd",
   "metadata": {},
   "source": [
    "##### 6. Manipulation de formes (Reshape, Transpose)\n"
   ]
  },
  {
   "cell_type": "code",
   "execution_count": null,
   "id": "dda84241",
   "metadata": {},
   "outputs": [],
   "source": [
    "### Manipulation de formes (Reshape, Transpose)\n",
    "arr = np.arange(1, 7)\n",
    "mat = arr.reshape((2,3))\n",
    "print(mat)\n",
    "# [[1 2 3]\n",
    "#  [4 5 6]]\n",
    "\n",
    "print(mat.T)  # Transposé"
   ]
  },
  {
   "cell_type": "code",
   "execution_count": null,
   "id": "84c5ea85",
   "metadata": {},
   "outputs": [],
   "source": [
    "### Fusion et séparation\n",
    "a = np.array([[1,2],[3,4]])\n",
    "b = np.array([[5,6]])\n",
    "np.vstack((a,b))  # empile verticalement\n",
    "np.hstack((a,b.T)) # empile horizontalement"
   ]
  },
  {
   "cell_type": "markdown",
   "id": "3d1b6f42",
   "metadata": {},
   "source": [
    "##### Agrégations et statistiques"
   ]
  },
  {
   "cell_type": "code",
   "execution_count": null,
   "id": "2a9c7143",
   "metadata": {},
   "outputs": [],
   "source": [
    "arr = np.array([[1,2,3],[4,5,6]])\n",
    "print(np.sum(arr))        # 21\n",
    "print(np.mean(arr, axis=0)) # moyenne par colonne\n",
    "print(np.std(arr))        # écart-type\n",
    "print(np.var(arr))        # variance\n",
    "print(np.median(arr))     # médiane"
   ]
  },
  {
   "cell_type": "markdown",
   "id": "89751fe5",
   "metadata": {},
   "source": [
    "##### Fonctions avancées : Broadcasting & Vectorisation\n"
   ]
  },
  {
   "cell_type": "code",
   "execution_count": null,
   "id": "9b34001c",
   "metadata": {},
   "outputs": [],
   "source": [
    "### Broadcasting\n",
    "\n",
    "\"\"\"Le broadcasting permet d’effectuer des opérations entre tableaux de tailles différentes :\"\"\"\n",
    "\n",
    "A = np.array([[1,2,3],[4,5,6]])\n",
    "b = np.array([10,20,30])\n",
    "print(A + b)\n",
    "\n",
    "\n",
    "### Vectorisation (vs boucle)\n",
    "# Boucle classique\n",
    "data = [1, 2, 3, 4, 5]\n",
    "res = [x**2 for x in data]\n",
    "\n",
    "# Vectorisation avec NumPy\n",
    "arr = np.array(data)\n",
    "res_np = arr**2  # beaucoup plus rapide\n",
    "print(res_np)"
   ]
  },
  {
   "cell_type": "markdown",
   "id": "2bef4f03",
   "metadata": {},
   "source": [
    "##### 10. Sauvegarde et chargement de données\n"
   ]
  },
  {
   "cell_type": "code",
   "execution_count": null,
   "id": "1c797c97",
   "metadata": {},
   "outputs": [],
   "source": [
    "### Sauvegarde et chargement de données\n",
    "arr = np.arange(10)\n",
    "np.save('array.npy', arr)\n",
    "loaded = np.load('array.npy')\n",
    "print(loaded)\n",
    "\n",
    "\n",
    "### Cas pratiques rapides\n",
    "# Produit matriciel\n",
    "A = np.array([[1,2],[3,4]])\n",
    "B = np.array([[2,0],[1,3]])\n",
    "print(np.dot(A,B))\n",
    "\n",
    "# Calcul sur des grandes données\n",
    "data = np.random.randint(0, 1000, (1000, 1000))\n",
    "print(np.mean(data))\n"
   ]
  }
 ],
 "metadata": {
  "language_info": {
   "name": "python"
  }
 },
 "nbformat": 4,
 "nbformat_minor": 5
}
