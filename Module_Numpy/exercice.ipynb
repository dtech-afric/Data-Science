{
 "cells": [
  {
   "cell_type": "markdown",
   "id": "bd588732",
   "metadata": {},
   "source": [
    "## EXERCICES DE FIN DE MODULE"
   ]
  },
  {
   "cell_type": "markdown",
   "id": "ef8c7e5b",
   "metadata": {},
   "source": [
    "### Exercice 1 : Analyse simple\n",
    "\n",
    "```bash\n",
    "Crée un tableau NumPy contenant les températures quotidiennes (10 valeurs).\n",
    "\n",
    "Affiche la température moyenne, la plus élevée et la plus basse.\n",
    "\n",
    "Convertis toutes les températures en Fahrenheit.\n",
    "\n",
    "Formule : F = C × 9/5 + 32\n",
    "\n",
    "```\n"
   ]
  },
  {
   "cell_type": "markdown",
   "id": "fc86b702",
   "metadata": {},
   "source": [
    "### Exercice 2 : Manipulation de tableaux\n",
    "\n",
    "```bash\n",
    "\n",
    "Crée deux matrices 3x3 A et B avec des nombres aléatoires entre 0 et 10.\n",
    "\n",
    "Calcule :  Leur somme, Leur produit matriciel (np.dot), La transposée de A\n",
    "\n",
    "Affiche les résultats de manière lisible.\n",
    "\n",
    "```"
   ]
  },
  {
   "cell_type": "markdown",
   "id": "2d521de0",
   "metadata": {},
   "source": [
    "### Exercice 3 : Filtrage et statistiques\n",
    "\n",
    "```bash\n",
    "Génère un tableau de 50 nombres aléatoires entre 1 et 100.\n",
    "\n",
    "Sélectionne uniquement les valeurs supérieures à 60.\n",
    "\n",
    "Calcule la moyenne et l’écart-type de ces valeurs filtrées.\n",
    "\n",
    "```"
   ]
  }
 ],
 "metadata": {
  "language_info": {
   "name": "python"
  }
 },
 "nbformat": 4,
 "nbformat_minor": 5
}
